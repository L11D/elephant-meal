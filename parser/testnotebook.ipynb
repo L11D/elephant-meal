{
 "cells": [
  {
   "cell_type": "code",
   "execution_count": 1,
   "id": "initial_id",
   "metadata": {
    "collapsed": true,
    "ExecuteTime": {
     "end_time": "2024-06-21T13:19:57.375548Z",
     "start_time": "2024-06-21T13:19:56.593703Z"
    }
   },
   "outputs": [],
   "source": [
    "import pandas as pd\n"
   ]
  },
  {
   "cell_type": "code",
   "outputs": [
    {
     "data": {
      "text/plain": "                                               url  \\\n0    https://www.povarenok.ru/recipes/show/181351/   \n1    https://www.povarenok.ru/recipes/show/181291/   \n2    https://www.povarenok.ru/recipes/show/181310/   \n3    https://www.povarenok.ru/recipes/show/181246/   \n4    https://www.povarenok.ru/recipes/show/181295/   \n..                                             ...   \n145  https://www.povarenok.ru/recipes/show/181358/   \n146  https://www.povarenok.ru/recipes/show/181339/   \n147  https://www.povarenok.ru/recipes/show/181332/   \n148  https://www.povarenok.ru/recipes/show/181314/   \n149  https://www.povarenok.ru/recipes/show/181224/   \n\n                                          name  \\\n0                  Салат из брокколи и ветчины   \n1                           Крекер с семечками   \n2                           Имбирное мороженое   \n3                   Пельмени рыбные из горбуши   \n4          Куриные рулетики с ветчиной и сыром   \n..                                         ...   \n145                  Оладьи из капусты с сыром   \n146             Уха …, суп рыбный по-ростовски   \n147  Мятный морковный пирог с грецкими орехами   \n148     Комбинированный гарнир \"Пшено и киноа\"   \n149                  Салат с мидиями и овощами   \n\n                                           ingredients  energy_value_all  \\\n0    {'Брокколи': '300 г', 'Яйцо куриное': '1 шт', ...             481.0   \n1    {'Мука пшеничная': '140 г', 'Масло растительно...             935.0   \n2    {'Молоко': '200 мл', 'Желток яичный': '5 шт', ...             359.4   \n3    {'Мука пшеничная': '3 стак.', 'Яйцо куриное': ...            4724.4   \n4    {'Филе куриное': '800 г', 'Ветчина': '200 г', ...            2626.8   \n..                                                 ...               ...   \n145  {'Капуста белокочанная': '500 г', 'Морковь': '...            1771.4   \n146  {'Рыба': '1,5 кг', 'Морковь': '2 шт', 'Лук реп...            1717.5   \n147  {'Сироп мятный': '75 мл', 'Вода': '75 мл', 'Мо...            2514.5   \n148  {'Киноа': '0.5 стак.', 'Пшено': '0.5 стак.', '...             719.0   \n149  {'Мидии': '100 г', 'Помидор': '1 шт', 'Перец с...             374.6   \n\n     protein_value_all  fat_value_all  carb_value_all  energy_value_portion  \\\n0                 31.7           31.7            24.3                   NaN   \n1                 20.5           48.2           105.9                   NaN   \n2                 29.9           40.9            82.1                 179.7   \n3                220.6          261.1           391.5                   NaN   \n4                291.2           83.8           173.3                   NaN   \n..                 ...            ...             ...                   ...   \n145               83.4           99.0           136.0                 177.1   \n146              198.3           22.5           184.5                 286.3   \n147               34.4          158.5           243.7                 314.3   \n148               26.1            9.0           126.5                   NaN   \n149               16.6           22.6            23.1                 187.3   \n\n     protein_value_portion  fat_value_portion  carb_value_portion  \\\n0                      NaN                NaN                 NaN   \n1                      NaN                NaN                 NaN   \n2                     15.0               20.5                41.1   \n3                      NaN                NaN                 NaN   \n4                      NaN                NaN                 NaN   \n..                     ...                ...                 ...   \n145                    8.3                9.9                13.6   \n146                   33.1                3.8                30.8   \n147                    4.3               19.8                30.5   \n148                    NaN                NaN                 NaN   \n149                    8.3               11.3                11.6   \n\n     energy_value_100g  protein_value_100g  fat_value_100g  carb_value_100g  \\\n0                 90.8                 6.0             6.0              4.6   \n1                301.6                 6.6            15.5             34.2   \n2                 83.6                 7.0             9.5             19.1   \n3                206.3                 9.6            11.4             17.1   \n4                171.7                19.0             5.5             11.3   \n..                 ...                 ...             ...              ...   \n145              150.1                 7.1             8.4             11.5   \n146               36.9                 4.3             0.5              4.0   \n147              326.6                 4.5            20.6             31.6   \n148              102.7                 3.7             1.3             18.1   \n149               70.7                 3.1             4.3              4.4   \n\n     portion_count                                        instruction  \n0              NaN  ['Брокколи помыть и разобрать на соцветия. Мож...  \n1              NaN  ['Из данного количества ингредиентов получится...  \n2              2.0  ['Желтки взбить с сахаром добела.', 'Имбирь оч...  \n3              NaN  ['Приготовить тесто: в миску вылить теплую вод...  \n4              NaN  ['1. Подготовка куриного филе:\\n \\nОчистите фи...  \n..             ...                                                ...  \n145           10.0  ['1. Мелко натираю капусту, солю и хорошо пере...  \n146            6.0  ['Попался мне тут на рынке сазан. Хороший тако...  \n147            8.0  ['Смешайте воду, сироп, сахар, масло, натертую...  \n148            NaN  ['Промыть пшено с киноа под проточной водой в ...  \n149            2.0  ['Мидии отварите в подсоленной воде, остудите....  \n\n[150 rows x 17 columns]",
      "text/html": "<div>\n<style scoped>\n    .dataframe tbody tr th:only-of-type {\n        vertical-align: middle;\n    }\n\n    .dataframe tbody tr th {\n        vertical-align: top;\n    }\n\n    .dataframe thead th {\n        text-align: right;\n    }\n</style>\n<table border=\"1\" class=\"dataframe\">\n  <thead>\n    <tr style=\"text-align: right;\">\n      <th></th>\n      <th>url</th>\n      <th>name</th>\n      <th>ingredients</th>\n      <th>energy_value_all</th>\n      <th>protein_value_all</th>\n      <th>fat_value_all</th>\n      <th>carb_value_all</th>\n      <th>energy_value_portion</th>\n      <th>protein_value_portion</th>\n      <th>fat_value_portion</th>\n      <th>carb_value_portion</th>\n      <th>energy_value_100g</th>\n      <th>protein_value_100g</th>\n      <th>fat_value_100g</th>\n      <th>carb_value_100g</th>\n      <th>portion_count</th>\n      <th>instruction</th>\n    </tr>\n  </thead>\n  <tbody>\n    <tr>\n      <th>0</th>\n      <td>https://www.povarenok.ru/recipes/show/181351/</td>\n      <td>Салат из брокколи и ветчины</td>\n      <td>{'Брокколи': '300 г', 'Яйцо куриное': '1 шт', ...</td>\n      <td>481.0</td>\n      <td>31.7</td>\n      <td>31.7</td>\n      <td>24.3</td>\n      <td>NaN</td>\n      <td>NaN</td>\n      <td>NaN</td>\n      <td>NaN</td>\n      <td>90.8</td>\n      <td>6.0</td>\n      <td>6.0</td>\n      <td>4.6</td>\n      <td>NaN</td>\n      <td>['Брокколи помыть и разобрать на соцветия. Мож...</td>\n    </tr>\n    <tr>\n      <th>1</th>\n      <td>https://www.povarenok.ru/recipes/show/181291/</td>\n      <td>Крекер с семечками</td>\n      <td>{'Мука пшеничная': '140 г', 'Масло растительно...</td>\n      <td>935.0</td>\n      <td>20.5</td>\n      <td>48.2</td>\n      <td>105.9</td>\n      <td>NaN</td>\n      <td>NaN</td>\n      <td>NaN</td>\n      <td>NaN</td>\n      <td>301.6</td>\n      <td>6.6</td>\n      <td>15.5</td>\n      <td>34.2</td>\n      <td>NaN</td>\n      <td>['Из данного количества ингредиентов получится...</td>\n    </tr>\n    <tr>\n      <th>2</th>\n      <td>https://www.povarenok.ru/recipes/show/181310/</td>\n      <td>Имбирное мороженое</td>\n      <td>{'Молоко': '200 мл', 'Желток яичный': '5 шт', ...</td>\n      <td>359.4</td>\n      <td>29.9</td>\n      <td>40.9</td>\n      <td>82.1</td>\n      <td>179.7</td>\n      <td>15.0</td>\n      <td>20.5</td>\n      <td>41.1</td>\n      <td>83.6</td>\n      <td>7.0</td>\n      <td>9.5</td>\n      <td>19.1</td>\n      <td>2.0</td>\n      <td>['Желтки взбить с сахаром добела.', 'Имбирь оч...</td>\n    </tr>\n    <tr>\n      <th>3</th>\n      <td>https://www.povarenok.ru/recipes/show/181246/</td>\n      <td>Пельмени рыбные из горбуши</td>\n      <td>{'Мука пшеничная': '3 стак.', 'Яйцо куриное': ...</td>\n      <td>4724.4</td>\n      <td>220.6</td>\n      <td>261.1</td>\n      <td>391.5</td>\n      <td>NaN</td>\n      <td>NaN</td>\n      <td>NaN</td>\n      <td>NaN</td>\n      <td>206.3</td>\n      <td>9.6</td>\n      <td>11.4</td>\n      <td>17.1</td>\n      <td>NaN</td>\n      <td>['Приготовить тесто: в миску вылить теплую вод...</td>\n    </tr>\n    <tr>\n      <th>4</th>\n      <td>https://www.povarenok.ru/recipes/show/181295/</td>\n      <td>Куриные рулетики с ветчиной и сыром</td>\n      <td>{'Филе куриное': '800 г', 'Ветчина': '200 г', ...</td>\n      <td>2626.8</td>\n      <td>291.2</td>\n      <td>83.8</td>\n      <td>173.3</td>\n      <td>NaN</td>\n      <td>NaN</td>\n      <td>NaN</td>\n      <td>NaN</td>\n      <td>171.7</td>\n      <td>19.0</td>\n      <td>5.5</td>\n      <td>11.3</td>\n      <td>NaN</td>\n      <td>['1. Подготовка куриного филе:\\n \\nОчистите фи...</td>\n    </tr>\n    <tr>\n      <th>...</th>\n      <td>...</td>\n      <td>...</td>\n      <td>...</td>\n      <td>...</td>\n      <td>...</td>\n      <td>...</td>\n      <td>...</td>\n      <td>...</td>\n      <td>...</td>\n      <td>...</td>\n      <td>...</td>\n      <td>...</td>\n      <td>...</td>\n      <td>...</td>\n      <td>...</td>\n      <td>...</td>\n      <td>...</td>\n    </tr>\n    <tr>\n      <th>145</th>\n      <td>https://www.povarenok.ru/recipes/show/181358/</td>\n      <td>Оладьи из капусты с сыром</td>\n      <td>{'Капуста белокочанная': '500 г', 'Морковь': '...</td>\n      <td>1771.4</td>\n      <td>83.4</td>\n      <td>99.0</td>\n      <td>136.0</td>\n      <td>177.1</td>\n      <td>8.3</td>\n      <td>9.9</td>\n      <td>13.6</td>\n      <td>150.1</td>\n      <td>7.1</td>\n      <td>8.4</td>\n      <td>11.5</td>\n      <td>10.0</td>\n      <td>['1. Мелко натираю капусту, солю и хорошо пере...</td>\n    </tr>\n    <tr>\n      <th>146</th>\n      <td>https://www.povarenok.ru/recipes/show/181339/</td>\n      <td>Уха …, суп рыбный по-ростовски</td>\n      <td>{'Рыба': '1,5 кг', 'Морковь': '2 шт', 'Лук реп...</td>\n      <td>1717.5</td>\n      <td>198.3</td>\n      <td>22.5</td>\n      <td>184.5</td>\n      <td>286.3</td>\n      <td>33.1</td>\n      <td>3.8</td>\n      <td>30.8</td>\n      <td>36.9</td>\n      <td>4.3</td>\n      <td>0.5</td>\n      <td>4.0</td>\n      <td>6.0</td>\n      <td>['Попался мне тут на рынке сазан. Хороший тако...</td>\n    </tr>\n    <tr>\n      <th>147</th>\n      <td>https://www.povarenok.ru/recipes/show/181332/</td>\n      <td>Мятный морковный пирог с грецкими орехами</td>\n      <td>{'Сироп мятный': '75 мл', 'Вода': '75 мл', 'Мо...</td>\n      <td>2514.5</td>\n      <td>34.4</td>\n      <td>158.5</td>\n      <td>243.7</td>\n      <td>314.3</td>\n      <td>4.3</td>\n      <td>19.8</td>\n      <td>30.5</td>\n      <td>326.6</td>\n      <td>4.5</td>\n      <td>20.6</td>\n      <td>31.6</td>\n      <td>8.0</td>\n      <td>['Смешайте воду, сироп, сахар, масло, натертую...</td>\n    </tr>\n    <tr>\n      <th>148</th>\n      <td>https://www.povarenok.ru/recipes/show/181314/</td>\n      <td>Комбинированный гарнир \"Пшено и киноа\"</td>\n      <td>{'Киноа': '0.5 стак.', 'Пшено': '0.5 стак.', '...</td>\n      <td>719.0</td>\n      <td>26.1</td>\n      <td>9.0</td>\n      <td>126.5</td>\n      <td>NaN</td>\n      <td>NaN</td>\n      <td>NaN</td>\n      <td>NaN</td>\n      <td>102.7</td>\n      <td>3.7</td>\n      <td>1.3</td>\n      <td>18.1</td>\n      <td>NaN</td>\n      <td>['Промыть пшено с киноа под проточной водой в ...</td>\n    </tr>\n    <tr>\n      <th>149</th>\n      <td>https://www.povarenok.ru/recipes/show/181224/</td>\n      <td>Салат с мидиями и овощами</td>\n      <td>{'Мидии': '100 г', 'Помидор': '1 шт', 'Перец с...</td>\n      <td>374.6</td>\n      <td>16.6</td>\n      <td>22.6</td>\n      <td>23.1</td>\n      <td>187.3</td>\n      <td>8.3</td>\n      <td>11.3</td>\n      <td>11.6</td>\n      <td>70.7</td>\n      <td>3.1</td>\n      <td>4.3</td>\n      <td>4.4</td>\n      <td>2.0</td>\n      <td>['Мидии отварите в подсоленной воде, остудите....</td>\n    </tr>\n  </tbody>\n</table>\n<p>150 rows × 17 columns</p>\n</div>"
     },
     "execution_count": 2,
     "metadata": {},
     "output_type": "execute_result"
    }
   ],
   "source": [
    "df_recipes = pd.read_csv(\"data/recipes/povarenok_recipes_2024_06_12.csv\")\n",
    "df_recipes.head(200)"
   ],
   "metadata": {
    "collapsed": false,
    "ExecuteTime": {
     "end_time": "2024-06-18T07:08:00.323070Z",
     "start_time": "2024-06-18T07:08:00.225543Z"
    }
   },
   "id": "ff6b57109d41b95",
   "execution_count": 2
  },
  {
   "cell_type": "code",
   "outputs": [
    {
     "data": {
      "text/plain": "(150, 17)"
     },
     "execution_count": 3,
     "metadata": {},
     "output_type": "execute_result"
    }
   ],
   "source": [
    "df_recipes.shape"
   ],
   "metadata": {
    "collapsed": false,
    "ExecuteTime": {
     "end_time": "2024-06-18T07:08:00.328714Z",
     "start_time": "2024-06-18T07:08:00.324081Z"
    }
   },
   "id": "af36a3add2d02b2f",
   "execution_count": 3
  },
  {
   "cell_type": "code",
   "outputs": [
    {
     "data": {
      "text/plain": "{'Брокколи': '300 г',\n 'Яйцо куриное': '1 шт',\n 'Лук репчатый': '1 шт',\n 'Ветчина': '100 г',\n 'Соль': 'по вкусу',\n 'Перец черный': 'по вкусу',\n 'Майонез': 'по вкусу'}"
     },
     "execution_count": 4,
     "metadata": {},
     "output_type": "execute_result"
    }
   ],
   "source": [
    "import ast\n",
    "ingredients = ast.literal_eval(df_recipes.loc[0]['ingredients'])\n",
    "ingredients"
   ],
   "metadata": {
    "collapsed": false,
    "ExecuteTime": {
     "end_time": "2024-06-18T07:08:00.372478Z",
     "start_time": "2024-06-18T07:08:00.329724Z"
    }
   },
   "id": "f4c978fc9cdc65e1",
   "execution_count": 4
  },
  {
   "cell_type": "code",
   "outputs": [
    {
     "data": {
      "text/plain": "['Брокколи помыть и разобрать на соцветия. Можно слегка отварить, но я клала свежую.',\n 'Лук покрошить средними кубиками.',\n 'Так же нарезать яйцо.',\n 'И мясо.',\n 'Смешать все в глубокой миске, добавить майонез, соль, перец.',\n 'Тщательно перемешать.',\n 'Приятного аппетита!']"
     },
     "execution_count": 5,
     "metadata": {},
     "output_type": "execute_result"
    }
   ],
   "source": [
    "ast.literal_eval(df_recipes.loc[0]['instruction'])"
   ],
   "metadata": {
    "collapsed": false,
    "ExecuteTime": {
     "end_time": "2024-06-18T07:08:00.379987Z",
     "start_time": "2024-06-18T07:08:00.374493Z"
    }
   },
   "id": "7a8df1a1a01bd443",
   "execution_count": 5
  },
  {
   "cell_type": "code",
   "outputs": [],
   "source": [
    "df_products = pd.read_csv(\"data/products/yeda_lenta_products2024_06_13.csv\")"
   ],
   "metadata": {
    "collapsed": false,
    "ExecuteTime": {
     "end_time": "2024-06-21T14:45:31.519566Z",
     "start_time": "2024-06-21T14:45:31.351018Z"
    }
   },
   "id": "95d045f4f71ebd48",
   "execution_count": 5
  },
  {
   "cell_type": "code",
   "outputs": [
    {
     "data": {
      "text/plain": "                                                    url  \\\n0     https://eda.yandex.ru/retail/lenta/product/ccf...   \n1     https://eda.yandex.ru/retail/lenta/product/ff4...   \n2     https://eda.yandex.ru/retail/lenta/product/77d...   \n3     https://eda.yandex.ru/retail/lenta/product/283...   \n4     https://eda.yandex.ru/retail/lenta/product/0a2...   \n...                                                 ...   \n8168  https://eda.yandex.ru/retail/lenta/product/354...   \n8169  https://eda.yandex.ru/retail/lenta/product/362...   \n8170  https://eda.yandex.ru/retail/lenta/product/343...   \n8171  https://eda.yandex.ru/retail/lenta/product/588...   \n8172  https://eda.yandex.ru/retail/lenta/product/80b...   \n\n                                                   name   price  value  \n0     Молоко пастеризованное Домик в деревне 2.5% 930мл   72RUB  930мл  \n1              Молоко пастеризованное Простоквашино 25%   78RUB  930мл  \n2      Молоко стерилизованное Домик в деревне 3.2% 950г   94RUB  950мл  \n3       Молоко пастеризованное Домик в деревне 3.7% 14л  125RUB   1.4л  \n4           Молоко пастеризованное Домик в деревне 2.5%  112RUB   1.4л  \n...                                                 ...     ...    ...  \n8168                Кальмар ФЛЭК соленый сушеный кольца  140RUB    40г  \n8169     Судак МОРСКОЙ БРИЗ соломка вяленая вес до 300г  441RUB   300г  \n8170                      Рыбка янтарная  с перцем вес   330RUB   300г  \n8171               Кальмар ФЛЭК соленый сушеный стружка  140RUB    40г  \n8172            Лосось вяленый МОРСКОЙ БРИЗ соломка 70г  125RUB    70г  \n\n[8173 rows x 4 columns]",
      "text/html": "<div>\n<style scoped>\n    .dataframe tbody tr th:only-of-type {\n        vertical-align: middle;\n    }\n\n    .dataframe tbody tr th {\n        vertical-align: top;\n    }\n\n    .dataframe thead th {\n        text-align: right;\n    }\n</style>\n<table border=\"1\" class=\"dataframe\">\n  <thead>\n    <tr style=\"text-align: right;\">\n      <th></th>\n      <th>url</th>\n      <th>name</th>\n      <th>price</th>\n      <th>value</th>\n    </tr>\n  </thead>\n  <tbody>\n    <tr>\n      <th>0</th>\n      <td>https://eda.yandex.ru/retail/lenta/product/ccf...</td>\n      <td>Молоко пастеризованное Домик в деревне 2.5% 930мл</td>\n      <td>72RUB</td>\n      <td>930мл</td>\n    </tr>\n    <tr>\n      <th>1</th>\n      <td>https://eda.yandex.ru/retail/lenta/product/ff4...</td>\n      <td>Молоко пастеризованное Простоквашино 25%</td>\n      <td>78RUB</td>\n      <td>930мл</td>\n    </tr>\n    <tr>\n      <th>2</th>\n      <td>https://eda.yandex.ru/retail/lenta/product/77d...</td>\n      <td>Молоко стерилизованное Домик в деревне 3.2% 950г</td>\n      <td>94RUB</td>\n      <td>950мл</td>\n    </tr>\n    <tr>\n      <th>3</th>\n      <td>https://eda.yandex.ru/retail/lenta/product/283...</td>\n      <td>Молоко пастеризованное Домик в деревне 3.7% 14л</td>\n      <td>125RUB</td>\n      <td>1.4л</td>\n    </tr>\n    <tr>\n      <th>4</th>\n      <td>https://eda.yandex.ru/retail/lenta/product/0a2...</td>\n      <td>Молоко пастеризованное Домик в деревне 2.5%</td>\n      <td>112RUB</td>\n      <td>1.4л</td>\n    </tr>\n    <tr>\n      <th>...</th>\n      <td>...</td>\n      <td>...</td>\n      <td>...</td>\n      <td>...</td>\n    </tr>\n    <tr>\n      <th>8168</th>\n      <td>https://eda.yandex.ru/retail/lenta/product/354...</td>\n      <td>Кальмар ФЛЭК соленый сушеный кольца</td>\n      <td>140RUB</td>\n      <td>40г</td>\n    </tr>\n    <tr>\n      <th>8169</th>\n      <td>https://eda.yandex.ru/retail/lenta/product/362...</td>\n      <td>Судак МОРСКОЙ БРИЗ соломка вяленая вес до 300г</td>\n      <td>441RUB</td>\n      <td>300г</td>\n    </tr>\n    <tr>\n      <th>8170</th>\n      <td>https://eda.yandex.ru/retail/lenta/product/343...</td>\n      <td>Рыбка янтарная  с перцем вес</td>\n      <td>330RUB</td>\n      <td>300г</td>\n    </tr>\n    <tr>\n      <th>8171</th>\n      <td>https://eda.yandex.ru/retail/lenta/product/588...</td>\n      <td>Кальмар ФЛЭК соленый сушеный стружка</td>\n      <td>140RUB</td>\n      <td>40г</td>\n    </tr>\n    <tr>\n      <th>8172</th>\n      <td>https://eda.yandex.ru/retail/lenta/product/80b...</td>\n      <td>Лосось вяленый МОРСКОЙ БРИЗ соломка 70г</td>\n      <td>125RUB</td>\n      <td>70г</td>\n    </tr>\n  </tbody>\n</table>\n<p>8173 rows × 4 columns</p>\n</div>"
     },
     "execution_count": 6,
     "metadata": {},
     "output_type": "execute_result"
    }
   ],
   "source": [
    "df_products"
   ],
   "metadata": {
    "collapsed": false,
    "ExecuteTime": {
     "end_time": "2024-06-21T14:45:34.603575Z",
     "start_time": "2024-06-21T14:45:34.586371Z"
    }
   },
   "id": "b89f6ea27a059d8e",
   "execution_count": 6
  },
  {
   "cell_type": "code",
   "outputs": [
    {
     "data": {
      "text/plain": "(8173, 4)"
     },
     "execution_count": 8,
     "metadata": {},
     "output_type": "execute_result"
    }
   ],
   "source": [
    "df_products.shape"
   ],
   "metadata": {
    "collapsed": false,
    "ExecuteTime": {
     "end_time": "2024-06-18T07:08:00.433941Z",
     "start_time": "2024-06-18T07:08:00.429440Z"
    }
   },
   "id": "4e331ab9fdeb6cec",
   "execution_count": 8
  },
  {
   "cell_type": "code",
   "outputs": [
    {
     "data": {
      "text/plain": "                                                    url  \\\n0     https://eda.yandex.ru/retail/lenta/product/ccf...   \n1     https://eda.yandex.ru/retail/lenta/product/ff4...   \n2     https://eda.yandex.ru/retail/lenta/product/77d...   \n3     https://eda.yandex.ru/retail/lenta/product/283...   \n4     https://eda.yandex.ru/retail/lenta/product/0a2...   \n...                                                 ...   \n8168  https://eda.yandex.ru/retail/lenta/product/354...   \n8169  https://eda.yandex.ru/retail/lenta/product/362...   \n8170  https://eda.yandex.ru/retail/lenta/product/343...   \n8171  https://eda.yandex.ru/retail/lenta/product/588...   \n8172  https://eda.yandex.ru/retail/lenta/product/80b...   \n\n                                                   name   price  value  \\\n0     Молоко пастеризованное Домик в деревне 2.5% 930мл   72RUB  930мл   \n1              Молоко пастеризованное Простоквашино 25%   78RUB  930мл   \n2      Молоко стерилизованное Домик в деревне 3.2% 950г   94RUB  950мл   \n3       Молоко пастеризованное Домик в деревне 3.7% 14л  125RUB   1.4л   \n4           Молоко пастеризованное Домик в деревне 2.5%  112RUB   1.4л   \n...                                                 ...     ...    ...   \n8168                Кальмар ФЛЭК соленый сушеный кольца  140RUB    40г   \n8169     Судак МОРСКОЙ БРИЗ соломка вяленая вес до 300г  441RUB   300г   \n8170                      Рыбка янтарная  с перцем вес   330RUB   300г   \n8171               Кальмар ФЛЭК соленый сушеный стружка  140RUB    40г   \n8172            Лосось вяленый МОРСКОЙ БРИЗ соломка 70г  125RUB    70г   \n\n                      preprocess_name  \\\n0                              молоко   \n1                              молоко   \n2              молоко стерилизованное   \n3                              молоко   \n4                              молоко   \n...                               ...   \n8168   кальмар соленый сушеный кольца   \n8169            судак соломка вяленая   \n8170          рыбка янтарная с перцем   \n8171  кальмар соленый сушеный стружка   \n8172           лосось вяленый соломка   \n\n                                              embedding  \n0     [-0.038448345, -0.033588268, -0.005668233, -0....  \n1     [-0.038448345, -0.033588268, -0.005668233, -0....  \n2     [0.01001843, -0.040376075, 0.025327226, -0.056...  \n3     [-0.038448345, -0.033588268, -0.005668233, -0....  \n4     [-0.038448345, -0.033588268, -0.005668233, -0....  \n...                                                 ...  \n8168  [0.009253688, 0.0072598252, 0.043654595, -0.02...  \n8169  [0.036217406, 0.012808878, 0.030974774, -0.036...  \n8170  [0.013878839, -0.019936228, 0.014026047, -0.04...  \n8171  [0.02597155, 0.014824511, 0.009293874, -0.0317...  \n8172  [0.0037402485, 0.011997028, 0.033676296, -0.00...  \n\n[8172 rows x 6 columns]",
      "text/html": "<div>\n<style scoped>\n    .dataframe tbody tr th:only-of-type {\n        vertical-align: middle;\n    }\n\n    .dataframe tbody tr th {\n        vertical-align: top;\n    }\n\n    .dataframe thead th {\n        text-align: right;\n    }\n</style>\n<table border=\"1\" class=\"dataframe\">\n  <thead>\n    <tr style=\"text-align: right;\">\n      <th></th>\n      <th>url</th>\n      <th>name</th>\n      <th>price</th>\n      <th>value</th>\n      <th>preprocess_name</th>\n      <th>embedding</th>\n    </tr>\n  </thead>\n  <tbody>\n    <tr>\n      <th>0</th>\n      <td>https://eda.yandex.ru/retail/lenta/product/ccf...</td>\n      <td>Молоко пастеризованное Домик в деревне 2.5% 930мл</td>\n      <td>72RUB</td>\n      <td>930мл</td>\n      <td>молоко</td>\n      <td>[-0.038448345, -0.033588268, -0.005668233, -0....</td>\n    </tr>\n    <tr>\n      <th>1</th>\n      <td>https://eda.yandex.ru/retail/lenta/product/ff4...</td>\n      <td>Молоко пастеризованное Простоквашино 25%</td>\n      <td>78RUB</td>\n      <td>930мл</td>\n      <td>молоко</td>\n      <td>[-0.038448345, -0.033588268, -0.005668233, -0....</td>\n    </tr>\n    <tr>\n      <th>2</th>\n      <td>https://eda.yandex.ru/retail/lenta/product/77d...</td>\n      <td>Молоко стерилизованное Домик в деревне 3.2% 950г</td>\n      <td>94RUB</td>\n      <td>950мл</td>\n      <td>молоко стерилизованное</td>\n      <td>[0.01001843, -0.040376075, 0.025327226, -0.056...</td>\n    </tr>\n    <tr>\n      <th>3</th>\n      <td>https://eda.yandex.ru/retail/lenta/product/283...</td>\n      <td>Молоко пастеризованное Домик в деревне 3.7% 14л</td>\n      <td>125RUB</td>\n      <td>1.4л</td>\n      <td>молоко</td>\n      <td>[-0.038448345, -0.033588268, -0.005668233, -0....</td>\n    </tr>\n    <tr>\n      <th>4</th>\n      <td>https://eda.yandex.ru/retail/lenta/product/0a2...</td>\n      <td>Молоко пастеризованное Домик в деревне 2.5%</td>\n      <td>112RUB</td>\n      <td>1.4л</td>\n      <td>молоко</td>\n      <td>[-0.038448345, -0.033588268, -0.005668233, -0....</td>\n    </tr>\n    <tr>\n      <th>...</th>\n      <td>...</td>\n      <td>...</td>\n      <td>...</td>\n      <td>...</td>\n      <td>...</td>\n      <td>...</td>\n    </tr>\n    <tr>\n      <th>8168</th>\n      <td>https://eda.yandex.ru/retail/lenta/product/354...</td>\n      <td>Кальмар ФЛЭК соленый сушеный кольца</td>\n      <td>140RUB</td>\n      <td>40г</td>\n      <td>кальмар соленый сушеный кольца</td>\n      <td>[0.009253688, 0.0072598252, 0.043654595, -0.02...</td>\n    </tr>\n    <tr>\n      <th>8169</th>\n      <td>https://eda.yandex.ru/retail/lenta/product/362...</td>\n      <td>Судак МОРСКОЙ БРИЗ соломка вяленая вес до 300г</td>\n      <td>441RUB</td>\n      <td>300г</td>\n      <td>судак соломка вяленая</td>\n      <td>[0.036217406, 0.012808878, 0.030974774, -0.036...</td>\n    </tr>\n    <tr>\n      <th>8170</th>\n      <td>https://eda.yandex.ru/retail/lenta/product/343...</td>\n      <td>Рыбка янтарная  с перцем вес</td>\n      <td>330RUB</td>\n      <td>300г</td>\n      <td>рыбка янтарная с перцем</td>\n      <td>[0.013878839, -0.019936228, 0.014026047, -0.04...</td>\n    </tr>\n    <tr>\n      <th>8171</th>\n      <td>https://eda.yandex.ru/retail/lenta/product/588...</td>\n      <td>Кальмар ФЛЭК соленый сушеный стружка</td>\n      <td>140RUB</td>\n      <td>40г</td>\n      <td>кальмар соленый сушеный стружка</td>\n      <td>[0.02597155, 0.014824511, 0.009293874, -0.0317...</td>\n    </tr>\n    <tr>\n      <th>8172</th>\n      <td>https://eda.yandex.ru/retail/lenta/product/80b...</td>\n      <td>Лосось вяленый МОРСКОЙ БРИЗ соломка 70г</td>\n      <td>125RUB</td>\n      <td>70г</td>\n      <td>лосось вяленый соломка</td>\n      <td>[0.0037402485, 0.011997028, 0.033676296, -0.00...</td>\n    </tr>\n  </tbody>\n</table>\n<p>8172 rows × 6 columns</p>\n</div>"
     },
     "execution_count": 4,
     "metadata": {},
     "output_type": "execute_result"
    }
   ],
   "source": [
    "pd.read_hdf(\"data/products/products_embedded.h5\", key='df')\n"
   ],
   "metadata": {
    "collapsed": false,
    "ExecuteTime": {
     "end_time": "2024-06-21T13:21:51.869827Z",
     "start_time": "2024-06-21T13:21:49.916469Z"
    }
   },
   "id": "48af2b9526264a93",
   "execution_count": 4
  },
  {
   "cell_type": "code",
   "outputs": [],
   "source": [
    "\n",
    "\n"
   ],
   "metadata": {
    "collapsed": false,
    "ExecuteTime": {
     "start_time": "2024-06-18T07:08:00.916138Z"
    }
   },
   "id": "e670b7ba545a84e1",
   "execution_count": null
  }
 ],
 "metadata": {
  "kernelspec": {
   "display_name": "Python 3",
   "language": "python",
   "name": "python3"
  },
  "language_info": {
   "codemirror_mode": {
    "name": "ipython",
    "version": 2
   },
   "file_extension": ".py",
   "mimetype": "text/x-python",
   "name": "python",
   "nbconvert_exporter": "python",
   "pygments_lexer": "ipython2",
   "version": "2.7.6"
  }
 },
 "nbformat": 4,
 "nbformat_minor": 5
}
