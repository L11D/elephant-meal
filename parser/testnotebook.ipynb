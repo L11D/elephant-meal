{
 "cells": [
  {
   "cell_type": "code",
   "execution_count": 1,
   "id": "initial_id",
   "metadata": {
    "collapsed": true,
    "ExecuteTime": {
     "end_time": "2024-06-25T16:00:34.421875Z",
     "start_time": "2024-06-25T16:00:33.718969Z"
    }
   },
   "outputs": [],
   "source": [
    "import numpy as np\n",
    "import pandas as pd\n",
    "import ast"
   ]
  },
  {
   "cell_type": "code",
   "outputs": [
    {
     "data": {
      "text/plain": "                                               url  \\\n0    https://www.povarenok.ru/recipes/show/169673/   \n1    https://www.povarenok.ru/recipes/show/144328/   \n2    https://www.povarenok.ru/recipes/show/179560/   \n3    https://www.povarenok.ru/recipes/show/162221/   \n4    https://www.povarenok.ru/recipes/show/161835/   \n..                                             ...   \n195   https://www.povarenok.ru/recipes/show/68896/   \n196   https://www.povarenok.ru/recipes/show/68813/   \n197   https://www.povarenok.ru/recipes/show/62129/   \n198  https://www.povarenok.ru/recipes/show/119551/   \n199   https://www.povarenok.ru/recipes/show/31318/   \n\n                                                  name  \\\n0                                Мандариновые капкейки   \n1                 Брусничный пирог на гречневой основе   \n2            Японские фруктовые сэндвичи \"Фруцу сандо\"   \n3                 Салат-закуска \"Новогодние сокровища\"   \n4                Порционный куриный террин с сюрпризом   \n..                                                 ...   \n195                        Итальянский салат из курицы   \n196                  Моя заготовка для солянки и супов   \n197                                  Дракошка-Картошка   \n198                        Трехслойный творожный пирог   \n199  Кнедлики  со сливой  по - Шлeнски. Рецепт от п...   \n\n                                           ingredients  energy_value_all  \\\n0    {'Сок мандариновый': '140 мл', 'Крахмал': '7 г...            4668.5   \n1    {'Хлопья гречневые': '110 г', 'Сахар тростнико...            2189.3   \n2    {'Багет': '4 ломт.', 'Сыр творожный': '150 г',...             596.5   \n3    {'Филе куриное': '235 г', 'Орехи грецкие': '60...            1020.1   \n4    {'Фарш куриный': '500 г', 'Лук репчатый': '1 ш...            1139.0   \n..                                                 ...               ...   \n195  {'Грудка куриная': '1 шт', 'Морковь': '1 шт', ...             958.4   \n196            {'Колбаса': 'Колбаса', 'Мясо': '200 г'}             400.0   \n197  {'Картофель': '500 г', 'Зелень': 'Зелень', 'Тв...            1297.0   \n198  {'Масло сливочное': '200 г', 'Мука пшеничная':...            4770.3   \n199  {'Картофель': '700 г', 'Мука пшеничная': '300 ...            4219.2   \n\n     protein_value_all  fat_value_all  carb_value_all  energy_value_portion  \\\n0                 58.8          266.2           558.0                 778.1   \n1                 58.5           85.7           289.7                   NaN   \n2                 24.0           31.7            53.8                   NaN   \n3                100.2           62.5            10.9                   NaN   \n4                121.6           62.9            21.1                 379.7   \n..                 ...            ...             ...                   ...   \n195               95.8           53.7            26.2                 239.6   \n196                NaN            NaN             NaN                 200.0   \n197              102.0           49.9           108.5                 324.3   \n198              131.2          252.3           570.2                   NaN   \n199               79.7          102.6           763.4                 421.9   \n\n     protein_value_portion  fat_value_portion  carb_value_portion  \\\n0                      9.8               44.4                93.0   \n1                      NaN                NaN                 NaN   \n2                      NaN                NaN                 NaN   \n3                      NaN                NaN                 NaN   \n4                     40.5               21.0                 7.0   \n..                     ...                ...                 ...   \n195                   24.0               13.4                 6.6   \n196                    NaN                NaN                 NaN   \n197                   25.5               12.5                27.1   \n198                    NaN                NaN                 NaN   \n199                    8.0               10.3                76.3   \n\n     energy_value_100g  protein_value_100g  fat_value_100g  carb_value_100g  \\\n0                274.6                 3.5            15.7             32.8   \n1                254.6                 6.8            10.0             33.7   \n2                238.6                 9.6            12.7             21.5   \n3                208.2                20.4            12.8              2.2   \n4                103.5                11.1             5.7              1.9   \n..                 ...                 ...             ...              ...   \n195              119.8                12.0             6.7              3.3   \n196              200.0                 NaN             NaN              NaN   \n197              122.4                 9.6             4.7             10.2   \n198              301.9                 8.3            16.0             36.1   \n199              155.7                 2.9             3.8             28.2   \n\n     portion_count                                        instruction  \n0              6.0  [В первую очередь необходимо приготовить курд....  \n1              NaN  [Для основы смешиваем гречневые хлопья Мистрал...  \n2              NaN  [Подготовить ингредиенты. Фрукты помыть, обсуш...  \n3              NaN  [Куриное филе (235 г) отварить до готовности, ...  \n4              3.0  [Лук мелко порезать. Яйцо слегка взбить. Добав...  \n..             ...                                                ...  \n195            4.0  [Грудки нарезать на пластины толщиной 1, 5 см ...  \n196            2.0  [Чистим холодильникк, достаем все виды колбасн...  \n197            4.0  [1. Картофельно-творожные шарики\\n\\r\\nОтварить...  \n198            NaN  [Прежде всего, займемся тестом. Муку просеять ...  \n199           10.0  [Приготовить картофельное пюре,дать остыть, пе...  \n\n[200 rows x 17 columns]",
      "text/html": "<div>\n<style scoped>\n    .dataframe tbody tr th:only-of-type {\n        vertical-align: middle;\n    }\n\n    .dataframe tbody tr th {\n        vertical-align: top;\n    }\n\n    .dataframe thead th {\n        text-align: right;\n    }\n</style>\n<table border=\"1\" class=\"dataframe\">\n  <thead>\n    <tr style=\"text-align: right;\">\n      <th></th>\n      <th>url</th>\n      <th>name</th>\n      <th>ingredients</th>\n      <th>energy_value_all</th>\n      <th>protein_value_all</th>\n      <th>fat_value_all</th>\n      <th>carb_value_all</th>\n      <th>energy_value_portion</th>\n      <th>protein_value_portion</th>\n      <th>fat_value_portion</th>\n      <th>carb_value_portion</th>\n      <th>energy_value_100g</th>\n      <th>protein_value_100g</th>\n      <th>fat_value_100g</th>\n      <th>carb_value_100g</th>\n      <th>portion_count</th>\n      <th>instruction</th>\n    </tr>\n  </thead>\n  <tbody>\n    <tr>\n      <th>0</th>\n      <td>https://www.povarenok.ru/recipes/show/169673/</td>\n      <td>Мандариновые капкейки</td>\n      <td>{'Сок мандариновый': '140 мл', 'Крахмал': '7 г...</td>\n      <td>4668.5</td>\n      <td>58.8</td>\n      <td>266.2</td>\n      <td>558.0</td>\n      <td>778.1</td>\n      <td>9.8</td>\n      <td>44.4</td>\n      <td>93.0</td>\n      <td>274.6</td>\n      <td>3.5</td>\n      <td>15.7</td>\n      <td>32.8</td>\n      <td>6.0</td>\n      <td>[В первую очередь необходимо приготовить курд....</td>\n    </tr>\n    <tr>\n      <th>1</th>\n      <td>https://www.povarenok.ru/recipes/show/144328/</td>\n      <td>Брусничный пирог на гречневой основе</td>\n      <td>{'Хлопья гречневые': '110 г', 'Сахар тростнико...</td>\n      <td>2189.3</td>\n      <td>58.5</td>\n      <td>85.7</td>\n      <td>289.7</td>\n      <td>NaN</td>\n      <td>NaN</td>\n      <td>NaN</td>\n      <td>NaN</td>\n      <td>254.6</td>\n      <td>6.8</td>\n      <td>10.0</td>\n      <td>33.7</td>\n      <td>NaN</td>\n      <td>[Для основы смешиваем гречневые хлопья Мистрал...</td>\n    </tr>\n    <tr>\n      <th>2</th>\n      <td>https://www.povarenok.ru/recipes/show/179560/</td>\n      <td>Японские фруктовые сэндвичи \"Фруцу сандо\"</td>\n      <td>{'Багет': '4 ломт.', 'Сыр творожный': '150 г',...</td>\n      <td>596.5</td>\n      <td>24.0</td>\n      <td>31.7</td>\n      <td>53.8</td>\n      <td>NaN</td>\n      <td>NaN</td>\n      <td>NaN</td>\n      <td>NaN</td>\n      <td>238.6</td>\n      <td>9.6</td>\n      <td>12.7</td>\n      <td>21.5</td>\n      <td>NaN</td>\n      <td>[Подготовить ингредиенты. Фрукты помыть, обсуш...</td>\n    </tr>\n    <tr>\n      <th>3</th>\n      <td>https://www.povarenok.ru/recipes/show/162221/</td>\n      <td>Салат-закуска \"Новогодние сокровища\"</td>\n      <td>{'Филе куриное': '235 г', 'Орехи грецкие': '60...</td>\n      <td>1020.1</td>\n      <td>100.2</td>\n      <td>62.5</td>\n      <td>10.9</td>\n      <td>NaN</td>\n      <td>NaN</td>\n      <td>NaN</td>\n      <td>NaN</td>\n      <td>208.2</td>\n      <td>20.4</td>\n      <td>12.8</td>\n      <td>2.2</td>\n      <td>NaN</td>\n      <td>[Куриное филе (235 г) отварить до готовности, ...</td>\n    </tr>\n    <tr>\n      <th>4</th>\n      <td>https://www.povarenok.ru/recipes/show/161835/</td>\n      <td>Порционный куриный террин с сюрпризом</td>\n      <td>{'Фарш куриный': '500 г', 'Лук репчатый': '1 ш...</td>\n      <td>1139.0</td>\n      <td>121.6</td>\n      <td>62.9</td>\n      <td>21.1</td>\n      <td>379.7</td>\n      <td>40.5</td>\n      <td>21.0</td>\n      <td>7.0</td>\n      <td>103.5</td>\n      <td>11.1</td>\n      <td>5.7</td>\n      <td>1.9</td>\n      <td>3.0</td>\n      <td>[Лук мелко порезать. Яйцо слегка взбить. Добав...</td>\n    </tr>\n    <tr>\n      <th>...</th>\n      <td>...</td>\n      <td>...</td>\n      <td>...</td>\n      <td>...</td>\n      <td>...</td>\n      <td>...</td>\n      <td>...</td>\n      <td>...</td>\n      <td>...</td>\n      <td>...</td>\n      <td>...</td>\n      <td>...</td>\n      <td>...</td>\n      <td>...</td>\n      <td>...</td>\n      <td>...</td>\n      <td>...</td>\n    </tr>\n    <tr>\n      <th>195</th>\n      <td>https://www.povarenok.ru/recipes/show/68896/</td>\n      <td>Итальянский салат из курицы</td>\n      <td>{'Грудка куриная': '1 шт', 'Морковь': '1 шт', ...</td>\n      <td>958.4</td>\n      <td>95.8</td>\n      <td>53.7</td>\n      <td>26.2</td>\n      <td>239.6</td>\n      <td>24.0</td>\n      <td>13.4</td>\n      <td>6.6</td>\n      <td>119.8</td>\n      <td>12.0</td>\n      <td>6.7</td>\n      <td>3.3</td>\n      <td>4.0</td>\n      <td>[Грудки нарезать на пластины толщиной 1, 5 см ...</td>\n    </tr>\n    <tr>\n      <th>196</th>\n      <td>https://www.povarenok.ru/recipes/show/68813/</td>\n      <td>Моя заготовка для солянки и супов</td>\n      <td>{'Колбаса': 'Колбаса', 'Мясо': '200 г'}</td>\n      <td>400.0</td>\n      <td>NaN</td>\n      <td>NaN</td>\n      <td>NaN</td>\n      <td>200.0</td>\n      <td>NaN</td>\n      <td>NaN</td>\n      <td>NaN</td>\n      <td>200.0</td>\n      <td>NaN</td>\n      <td>NaN</td>\n      <td>NaN</td>\n      <td>2.0</td>\n      <td>[Чистим холодильникк, достаем все виды колбасн...</td>\n    </tr>\n    <tr>\n      <th>197</th>\n      <td>https://www.povarenok.ru/recipes/show/62129/</td>\n      <td>Дракошка-Картошка</td>\n      <td>{'Картофель': '500 г', 'Зелень': 'Зелень', 'Тв...</td>\n      <td>1297.0</td>\n      <td>102.0</td>\n      <td>49.9</td>\n      <td>108.5</td>\n      <td>324.3</td>\n      <td>25.5</td>\n      <td>12.5</td>\n      <td>27.1</td>\n      <td>122.4</td>\n      <td>9.6</td>\n      <td>4.7</td>\n      <td>10.2</td>\n      <td>4.0</td>\n      <td>[1. Картофельно-творожные шарики\\n\\r\\nОтварить...</td>\n    </tr>\n    <tr>\n      <th>198</th>\n      <td>https://www.povarenok.ru/recipes/show/119551/</td>\n      <td>Трехслойный творожный пирог</td>\n      <td>{'Масло сливочное': '200 г', 'Мука пшеничная':...</td>\n      <td>4770.3</td>\n      <td>131.2</td>\n      <td>252.3</td>\n      <td>570.2</td>\n      <td>NaN</td>\n      <td>NaN</td>\n      <td>NaN</td>\n      <td>NaN</td>\n      <td>301.9</td>\n      <td>8.3</td>\n      <td>16.0</td>\n      <td>36.1</td>\n      <td>NaN</td>\n      <td>[Прежде всего, займемся тестом. Муку просеять ...</td>\n    </tr>\n    <tr>\n      <th>199</th>\n      <td>https://www.povarenok.ru/recipes/show/31318/</td>\n      <td>Кнедлики  со сливой  по - Шлeнски. Рецепт от п...</td>\n      <td>{'Картофель': '700 г', 'Мука пшеничная': '300 ...</td>\n      <td>4219.2</td>\n      <td>79.7</td>\n      <td>102.6</td>\n      <td>763.4</td>\n      <td>421.9</td>\n      <td>8.0</td>\n      <td>10.3</td>\n      <td>76.3</td>\n      <td>155.7</td>\n      <td>2.9</td>\n      <td>3.8</td>\n      <td>28.2</td>\n      <td>10.0</td>\n      <td>[Приготовить картофельное пюре,дать остыть, пе...</td>\n    </tr>\n  </tbody>\n</table>\n<p>200 rows × 17 columns</p>\n</div>"
     },
     "execution_count": 16,
     "metadata": {},
     "output_type": "execute_result"
    }
   ],
   "source": [
    "df_recipes = pd.read_csv(\"data/recipes/recipes.csv\")\n",
    "df_recipes['ingredients'] = df_recipes['ingredients'].apply(ast.literal_eval)\n",
    "df_recipes['instruction'] = df_recipes['instruction'].apply(ast.literal_eval)\n",
    "df_recipes.head(200)"
   ],
   "metadata": {
    "collapsed": false,
    "ExecuteTime": {
     "end_time": "2024-06-25T16:13:09.541411Z",
     "start_time": "2024-06-25T16:12:33.954511Z"
    }
   },
   "id": "ff6b57109d41b95",
   "execution_count": 16
  },
  {
   "cell_type": "code",
   "outputs": [
    {
     "data": {
      "text/plain": "                                               url  \\\n0    https://www.povarenok.ru/recipes/show/169673/   \n1    https://www.povarenok.ru/recipes/show/144328/   \n2    https://www.povarenok.ru/recipes/show/179560/   \n3    https://www.povarenok.ru/recipes/show/162221/   \n4    https://www.povarenok.ru/recipes/show/161835/   \n..                                             ...   \n195   https://www.povarenok.ru/recipes/show/68896/   \n196   https://www.povarenok.ru/recipes/show/68813/   \n197   https://www.povarenok.ru/recipes/show/62129/   \n198  https://www.povarenok.ru/recipes/show/119551/   \n199   https://www.povarenok.ru/recipes/show/31318/   \n\n                                                  name  \\\n0                                Мандариновые капкейки   \n1                 Брусничный пирог на гречневой основе   \n2            Японские фруктовые сэндвичи \"Фруцу сандо\"   \n3                 Салат-закуска \"Новогодние сокровища\"   \n4                Порционный куриный террин с сюрпризом   \n..                                                 ...   \n195                        Итальянский салат из курицы   \n196                  Моя заготовка для солянки и супов   \n197                                  Дракошка-Картошка   \n198                        Трехслойный творожный пирог   \n199  Кнедлики  со сливой  по - Шлeнски. Рецепт от п...   \n\n                                           ingredients  energy_value_all  \\\n0    {'Сок мандариновый': '140 мл', 'Крахмал': '7 г...            4668.5   \n1    {'Хлопья гречневые': '110 г', 'Сахар тростнико...            2189.3   \n2    {'Багет': '4 ломт.', 'Сыр творожный': '150 г',...             596.5   \n3    {'Филе куриное': '235 г', 'Орехи грецкие': '60...            1020.1   \n4    {'Фарш куриный': '500 г', 'Лук репчатый': '1 ш...            1139.0   \n..                                                 ...               ...   \n195  {'Грудка куриная': '1 шт', 'Морковь': '1 шт', ...             958.4   \n196            {'Колбаса': 'Колбаса', 'Мясо': '200 г'}             400.0   \n197  {'Картофель': '500 г', 'Зелень': 'Зелень', 'Тв...            1297.0   \n198  {'Масло сливочное': '200 г', 'Мука пшеничная':...            4770.3   \n199  {'Картофель': '700 г', 'Мука пшеничная': '300 ...            4219.2   \n\n     protein_value_all  fat_value_all  carb_value_all  energy_value_portion  \\\n0                 58.8          266.2           558.0                 778.1   \n1                 58.5           85.7           289.7                   NaN   \n2                 24.0           31.7            53.8                   NaN   \n3                100.2           62.5            10.9                   NaN   \n4                121.6           62.9            21.1                 379.7   \n..                 ...            ...             ...                   ...   \n195               95.8           53.7            26.2                 239.6   \n196                NaN            NaN             NaN                 200.0   \n197              102.0           49.9           108.5                 324.3   \n198              131.2          252.3           570.2                   NaN   \n199               79.7          102.6           763.4                 421.9   \n\n     protein_value_portion  fat_value_portion  carb_value_portion  \\\n0                      9.8               44.4                93.0   \n1                      NaN                NaN                 NaN   \n2                      NaN                NaN                 NaN   \n3                      NaN                NaN                 NaN   \n4                     40.5               21.0                 7.0   \n..                     ...                ...                 ...   \n195                   24.0               13.4                 6.6   \n196                    NaN                NaN                 NaN   \n197                   25.5               12.5                27.1   \n198                    NaN                NaN                 NaN   \n199                    8.0               10.3                76.3   \n\n     energy_value_100g  protein_value_100g  fat_value_100g  carb_value_100g  \\\n0                274.6                 3.5            15.7             32.8   \n1                254.6                 6.8            10.0             33.7   \n2                238.6                 9.6            12.7             21.5   \n3                208.2                20.4            12.8              2.2   \n4                103.5                11.1             5.7              1.9   \n..                 ...                 ...             ...              ...   \n195              119.8                12.0             6.7              3.3   \n196              200.0                 NaN             NaN              NaN   \n197              122.4                 9.6             4.7             10.2   \n198              301.9                 8.3            16.0             36.1   \n199              155.7                 2.9             3.8             28.2   \n\n     portion_count                                        instruction  \n0              6.0  [В первую очередь необходимо приготовить курд....  \n1              NaN  [Для основы смешиваем гречневые хлопья Мистрал...  \n2              NaN  [Подготовить ингредиенты. Фрукты помыть, обсуш...  \n3              NaN  [Куриное филе (235 г) отварить до готовности, ...  \n4              3.0  [Лук мелко порезать. Яйцо слегка взбить. Добав...  \n..             ...                                                ...  \n195            4.0  [Грудки нарезать на пластины толщиной 1, 5 см ...  \n196            2.0  [Чистим холодильникк, достаем все виды колбасн...  \n197            4.0  [1. Картофельно-творожные шарики\\n\\r\\nОтварить...  \n198            NaN  [Прежде всего, займемся тестом. Муку просеять ...  \n199           10.0  [Приготовить картофельное пюре,дать остыть, пе...  \n\n[200 rows x 17 columns]",
      "text/html": "<div>\n<style scoped>\n    .dataframe tbody tr th:only-of-type {\n        vertical-align: middle;\n    }\n\n    .dataframe tbody tr th {\n        vertical-align: top;\n    }\n\n    .dataframe thead th {\n        text-align: right;\n    }\n</style>\n<table border=\"1\" class=\"dataframe\">\n  <thead>\n    <tr style=\"text-align: right;\">\n      <th></th>\n      <th>url</th>\n      <th>name</th>\n      <th>ingredients</th>\n      <th>energy_value_all</th>\n      <th>protein_value_all</th>\n      <th>fat_value_all</th>\n      <th>carb_value_all</th>\n      <th>energy_value_portion</th>\n      <th>protein_value_portion</th>\n      <th>fat_value_portion</th>\n      <th>carb_value_portion</th>\n      <th>energy_value_100g</th>\n      <th>protein_value_100g</th>\n      <th>fat_value_100g</th>\n      <th>carb_value_100g</th>\n      <th>portion_count</th>\n      <th>instruction</th>\n    </tr>\n  </thead>\n  <tbody>\n    <tr>\n      <th>0</th>\n      <td>https://www.povarenok.ru/recipes/show/169673/</td>\n      <td>Мандариновые капкейки</td>\n      <td>{'Сок мандариновый': '140 мл', 'Крахмал': '7 г...</td>\n      <td>4668.5</td>\n      <td>58.8</td>\n      <td>266.2</td>\n      <td>558.0</td>\n      <td>778.1</td>\n      <td>9.8</td>\n      <td>44.4</td>\n      <td>93.0</td>\n      <td>274.6</td>\n      <td>3.5</td>\n      <td>15.7</td>\n      <td>32.8</td>\n      <td>6.0</td>\n      <td>[В первую очередь необходимо приготовить курд....</td>\n    </tr>\n    <tr>\n      <th>1</th>\n      <td>https://www.povarenok.ru/recipes/show/144328/</td>\n      <td>Брусничный пирог на гречневой основе</td>\n      <td>{'Хлопья гречневые': '110 г', 'Сахар тростнико...</td>\n      <td>2189.3</td>\n      <td>58.5</td>\n      <td>85.7</td>\n      <td>289.7</td>\n      <td>NaN</td>\n      <td>NaN</td>\n      <td>NaN</td>\n      <td>NaN</td>\n      <td>254.6</td>\n      <td>6.8</td>\n      <td>10.0</td>\n      <td>33.7</td>\n      <td>NaN</td>\n      <td>[Для основы смешиваем гречневые хлопья Мистрал...</td>\n    </tr>\n    <tr>\n      <th>2</th>\n      <td>https://www.povarenok.ru/recipes/show/179560/</td>\n      <td>Японские фруктовые сэндвичи \"Фруцу сандо\"</td>\n      <td>{'Багет': '4 ломт.', 'Сыр творожный': '150 г',...</td>\n      <td>596.5</td>\n      <td>24.0</td>\n      <td>31.7</td>\n      <td>53.8</td>\n      <td>NaN</td>\n      <td>NaN</td>\n      <td>NaN</td>\n      <td>NaN</td>\n      <td>238.6</td>\n      <td>9.6</td>\n      <td>12.7</td>\n      <td>21.5</td>\n      <td>NaN</td>\n      <td>[Подготовить ингредиенты. Фрукты помыть, обсуш...</td>\n    </tr>\n    <tr>\n      <th>3</th>\n      <td>https://www.povarenok.ru/recipes/show/162221/</td>\n      <td>Салат-закуска \"Новогодние сокровища\"</td>\n      <td>{'Филе куриное': '235 г', 'Орехи грецкие': '60...</td>\n      <td>1020.1</td>\n      <td>100.2</td>\n      <td>62.5</td>\n      <td>10.9</td>\n      <td>NaN</td>\n      <td>NaN</td>\n      <td>NaN</td>\n      <td>NaN</td>\n      <td>208.2</td>\n      <td>20.4</td>\n      <td>12.8</td>\n      <td>2.2</td>\n      <td>NaN</td>\n      <td>[Куриное филе (235 г) отварить до готовности, ...</td>\n    </tr>\n    <tr>\n      <th>4</th>\n      <td>https://www.povarenok.ru/recipes/show/161835/</td>\n      <td>Порционный куриный террин с сюрпризом</td>\n      <td>{'Фарш куриный': '500 г', 'Лук репчатый': '1 ш...</td>\n      <td>1139.0</td>\n      <td>121.6</td>\n      <td>62.9</td>\n      <td>21.1</td>\n      <td>379.7</td>\n      <td>40.5</td>\n      <td>21.0</td>\n      <td>7.0</td>\n      <td>103.5</td>\n      <td>11.1</td>\n      <td>5.7</td>\n      <td>1.9</td>\n      <td>3.0</td>\n      <td>[Лук мелко порезать. Яйцо слегка взбить. Добав...</td>\n    </tr>\n    <tr>\n      <th>...</th>\n      <td>...</td>\n      <td>...</td>\n      <td>...</td>\n      <td>...</td>\n      <td>...</td>\n      <td>...</td>\n      <td>...</td>\n      <td>...</td>\n      <td>...</td>\n      <td>...</td>\n      <td>...</td>\n      <td>...</td>\n      <td>...</td>\n      <td>...</td>\n      <td>...</td>\n      <td>...</td>\n      <td>...</td>\n    </tr>\n    <tr>\n      <th>195</th>\n      <td>https://www.povarenok.ru/recipes/show/68896/</td>\n      <td>Итальянский салат из курицы</td>\n      <td>{'Грудка куриная': '1 шт', 'Морковь': '1 шт', ...</td>\n      <td>958.4</td>\n      <td>95.8</td>\n      <td>53.7</td>\n      <td>26.2</td>\n      <td>239.6</td>\n      <td>24.0</td>\n      <td>13.4</td>\n      <td>6.6</td>\n      <td>119.8</td>\n      <td>12.0</td>\n      <td>6.7</td>\n      <td>3.3</td>\n      <td>4.0</td>\n      <td>[Грудки нарезать на пластины толщиной 1, 5 см ...</td>\n    </tr>\n    <tr>\n      <th>196</th>\n      <td>https://www.povarenok.ru/recipes/show/68813/</td>\n      <td>Моя заготовка для солянки и супов</td>\n      <td>{'Колбаса': 'Колбаса', 'Мясо': '200 г'}</td>\n      <td>400.0</td>\n      <td>NaN</td>\n      <td>NaN</td>\n      <td>NaN</td>\n      <td>200.0</td>\n      <td>NaN</td>\n      <td>NaN</td>\n      <td>NaN</td>\n      <td>200.0</td>\n      <td>NaN</td>\n      <td>NaN</td>\n      <td>NaN</td>\n      <td>2.0</td>\n      <td>[Чистим холодильникк, достаем все виды колбасн...</td>\n    </tr>\n    <tr>\n      <th>197</th>\n      <td>https://www.povarenok.ru/recipes/show/62129/</td>\n      <td>Дракошка-Картошка</td>\n      <td>{'Картофель': '500 г', 'Зелень': 'Зелень', 'Тв...</td>\n      <td>1297.0</td>\n      <td>102.0</td>\n      <td>49.9</td>\n      <td>108.5</td>\n      <td>324.3</td>\n      <td>25.5</td>\n      <td>12.5</td>\n      <td>27.1</td>\n      <td>122.4</td>\n      <td>9.6</td>\n      <td>4.7</td>\n      <td>10.2</td>\n      <td>4.0</td>\n      <td>[1. Картофельно-творожные шарики\\n\\r\\nОтварить...</td>\n    </tr>\n    <tr>\n      <th>198</th>\n      <td>https://www.povarenok.ru/recipes/show/119551/</td>\n      <td>Трехслойный творожный пирог</td>\n      <td>{'Масло сливочное': '200 г', 'Мука пшеничная':...</td>\n      <td>4770.3</td>\n      <td>131.2</td>\n      <td>252.3</td>\n      <td>570.2</td>\n      <td>NaN</td>\n      <td>NaN</td>\n      <td>NaN</td>\n      <td>NaN</td>\n      <td>301.9</td>\n      <td>8.3</td>\n      <td>16.0</td>\n      <td>36.1</td>\n      <td>NaN</td>\n      <td>[Прежде всего, займемся тестом. Муку просеять ...</td>\n    </tr>\n    <tr>\n      <th>199</th>\n      <td>https://www.povarenok.ru/recipes/show/31318/</td>\n      <td>Кнедлики  со сливой  по - Шлeнски. Рецепт от п...</td>\n      <td>{'Картофель': '700 г', 'Мука пшеничная': '300 ...</td>\n      <td>4219.2</td>\n      <td>79.7</td>\n      <td>102.6</td>\n      <td>763.4</td>\n      <td>421.9</td>\n      <td>8.0</td>\n      <td>10.3</td>\n      <td>76.3</td>\n      <td>155.7</td>\n      <td>2.9</td>\n      <td>3.8</td>\n      <td>28.2</td>\n      <td>10.0</td>\n      <td>[Приготовить картофельное пюре,дать остыть, пе...</td>\n    </tr>\n  </tbody>\n</table>\n<p>200 rows × 17 columns</p>\n</div>"
     },
     "execution_count": 3,
     "metadata": {},
     "output_type": "execute_result"
    }
   ],
   "source": [
    "small_df = df_recipes.head(200)\n",
    "small_df"
   ],
   "metadata": {
    "collapsed": false,
    "ExecuteTime": {
     "end_time": "2024-06-25T16:01:09.923512Z",
     "start_time": "2024-06-25T16:01:09.891810Z"
    }
   },
   "id": "1291043e7cde09bf",
   "execution_count": 3
  },
  {
   "cell_type": "code",
   "outputs": [],
   "source": [
    "def clear_df(df):\n",
    "    condition_ing = (df['ingredients'] == {})\n",
    "    condition_inst = df['instruction'].apply(lambda x: len(x) == 0 or not any([i != '' or i !=' ' in i for i in x]))\n",
    "    df.loc[condition_ing, 'ingredients'] = np.nan\n",
    "    df.loc[condition_inst, 'instruction'] = np.nan\n",
    "    df = df.dropna(subset=['ingredients', 'name', 'instruction'])\n",
    "    return df"
   ],
   "metadata": {
    "collapsed": false,
    "ExecuteTime": {
     "end_time": "2024-06-25T16:13:14.073293Z",
     "start_time": "2024-06-25T16:13:14.068172Z"
    }
   },
   "id": "af36a3add2d02b2f",
   "execution_count": 17
  },
  {
   "cell_type": "code",
   "outputs": [],
   "source": [
    "import re"
   ],
   "metadata": {
    "collapsed": false,
    "ExecuteTime": {
     "end_time": "2024-06-25T16:01:10.183227Z",
     "start_time": "2024-06-25T16:01:10.179550Z"
    }
   },
   "id": "43a4852cddeaa3b0",
   "execution_count": 6
  },
  {
   "cell_type": "code",
   "outputs": [],
   "source": [
    "# def get_value_type(value):\n",
    "#     a = ''.join(re.findall('[А-Яа-я]+', value))\n",
    "#     match a:\n",
    "#         case 'г':\n",
    "#             return 'g'\n",
    "#         case 'кг':\n",
    "#             return 'kg'\n",
    "#         case 'л':\n",
    "#             return 'l'\n",
    "#         case 'мл':\n",
    "#                 return 'ml'\n",
    "#         case 'шт':\n",
    "#             return 'peace'\n",
    "#         case 'стак' | 'стакан':\n",
    "#             return 'GLASS'\n",
    "#         case _:\n",
    "#             return 'notmetric'\n",
    "#     \n",
    "# def get_value(value):\n",
    "#     m = re.match(r'(\\d+[\\s,/\\.-]?)+', value)\n",
    "#     if m:\n",
    "#         s = m[0]\n",
    "#         s = s.strip()\n",
    "#         \n",
    "#         ans = 0\n",
    "#         \n",
    "#         nums = re.findall(r'\\d+', s)\n",
    "#         nums = [float(n) for n in nums]\n",
    "#         \n",
    "#         separators = re.findall(r'[^\\d]', s)\n",
    "#         \n",
    "#         ans += nums[0]\n",
    "#         for i in range(1, len(nums)):\n",
    "#             match separators[i-1]:\n",
    "#                 case '.' | ',':\n",
    "#                     ans += nums[i] * 0.1\n",
    "#                 case '-':\n",
    "#                     ans -= nums[i-1]\n",
    "#                     ans += (nums[i-1] + nums[i])/2\n",
    "#                 case '/':\n",
    "#                     ans -= nums[i-1]\n",
    "#                     ans += (nums[i-1] / nums[i])\n",
    "#                 case ' ':\n",
    "#                     ans += nums[i]\n",
    "#         \n",
    "#         return ans\n",
    "#     return None\n",
    "#     \n",
    "# d = []\n",
    "# \n",
    "# for index, data in small_df.iterrows():\n",
    "#     ingredients = data['ingredients']\n",
    "#     for x, y in ingredients.items():\n",
    "#         \n",
    "#         value = None\n",
    "#         value_type = None\n",
    "#         displayed_name = y \n",
    "#         if x == y:\n",
    "#             displayed_name = None\n",
    "#         \n",
    "#         value_type = get_value_type(y)\n",
    "#         \n",
    "#         \n",
    "#         if value_type != 'notmetric':\n",
    "#             value = get_value(y)\n",
    "#         if value_type == 'GLASS':\n",
    "#             value *= 200\n",
    "#             value_type = 'ml'\n",
    "#         \n",
    "#             \n",
    "#         # print(x, ':\\t', y, '----->', value, ' - ', value_type, ' - ', displayed_name)\n",
    "#         d.append({\n",
    "#             'name': x + ': ' + y,\n",
    "#             'value': value,\n",
    "#             'value_type': value_type,\n",
    "#             'displayed_name': displayed_name\n",
    "#         })\n",
    "# \n",
    "# pd.DataFrame(d)"
   ],
   "metadata": {
    "collapsed": false,
    "ExecuteTime": {
     "end_time": "2024-06-25T16:01:10.190122Z",
     "start_time": "2024-06-25T16:01:10.185243Z"
    }
   },
   "id": "d3f882152a7e3a97",
   "execution_count": 7
  },
  {
   "cell_type": "code",
   "outputs": [],
   "source": [],
   "metadata": {
    "collapsed": false,
    "ExecuteTime": {
     "end_time": "2024-06-25T16:01:10.193871Z",
     "start_time": "2024-06-25T16:01:10.191138Z"
    }
   },
   "id": "7b8543047666b181",
   "execution_count": 7
  }
 ],
 "metadata": {
  "kernelspec": {
   "display_name": "Python 3",
   "language": "python",
   "name": "python3"
  },
  "language_info": {
   "codemirror_mode": {
    "name": "ipython",
    "version": 2
   },
   "file_extension": ".py",
   "mimetype": "text/x-python",
   "name": "python",
   "nbconvert_exporter": "python",
   "pygments_lexer": "ipython2",
   "version": "2.7.6"
  }
 },
 "nbformat": 4,
 "nbformat_minor": 5
}
